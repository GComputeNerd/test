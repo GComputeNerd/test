import pandas as pd
import pycountry

# Load your emissions data
df = pd.read_csv("emissions.csv")

# Function to get iso_n3 from country name
def get_iso_n3(name):
    try:
        return int(pycountry.countries.lookup(name).numeric)
    except:
        return None

# Add iso_n3 column
df["iso_n3"] = df["country"].apply(get_iso_n3)

df["iso_n3"]

# Save cleaned version
df.to_csv("iso_emissions.csv", index=False)


df = df[df["iso_n3"].notna()]
df.to_csv("iso_emissions.csv", index=False)


df
