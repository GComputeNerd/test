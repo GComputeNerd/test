{
 "cells": [
  {
   "cell_type": "code",
   "execution_count": 2,
   "id": "97e57ce7-a538-4c3c-9572-8d0ad4d1ff1e",
   "metadata": {},
   "outputs": [],
   "source": [
    "import pandas as pd\n",
    "import pycountry\n",
    "\n",
    "# Load your emissions data\n",
    "df = pd.read_csv(\"emissions.csv\")\n",
    "\n",
    "# Function to get iso_n3 from country name\n",
    "def get_iso_n3(name):\n",
    "    try:\n",
    "        return int(pycountry.countries.lookup(name).numeric)\n",
    "    except:\n",
    "        return None\n",
    "\n",
    "# Add iso_n3 column\n",
    "df[\"iso_n3\"] = df[\"country\"].apply(get_iso_n3)\n",
    "\n",
    "df[\"iso_n3\"]\n",
    "\n",
    "# Save cleaned version\n",
    "df.to_csv(\"iso_emissions.csv\", index=False)"
   ]
  },
  {
   "cell_type": "code",
   "execution_count": 9,
   "id": "06252ef2-a0de-41d3-aa45-20d06a5b146c",
   "metadata": {},
   "outputs": [],
   "source": [
    "df = df[df[\"iso_n3\"].notna()]\n",
    "df.to_csv(\"iso_emissions.csv\", index=False)"
   ]
  },
  {
   "cell_type": "code",
   "execution_count": 24,
   "id": "3894cfe3-3643-4d95-a89b-d22ac85bbb03",
   "metadata": {},
   "outputs": [],
   "source": [
    "df[\"iso_n3\"] = df[\"iso_n3\"].astype(int).astype(str).str.zfill(3)"
   ]
  },
  {
   "cell_type": "code",
   "execution_count": 27,
   "id": "d68332e5-a0bd-4913-9376-013532574ed2",
   "metadata": {},
   "outputs": [],
   "source": [
    "df.to_csv(\"iso_emissions.csv\", index=False)"
   ]
  }
 ],
 "metadata": {
  "kernelspec": {
   "display_name": "Python 3 (ipykernel)",
   "language": "python",
   "name": "python3"
  },
  "language_info": {
   "codemirror_mode": {
    "name": "ipython",
    "version": 3
   },
   "file_extension": ".py",
   "mimetype": "text/x-python",
   "name": "python",
   "nbconvert_exporter": "python",
   "pygments_lexer": "ipython3",
   "version": "3.11.7"
  }
 },
 "nbformat": 4,
 "nbformat_minor": 5
}
