{
 "cells": [
  {
   "cell_type": "code",
   "execution_count": 2,
   "id": "97e57ce7-a538-4c3c-9572-8d0ad4d1ff1e",
   "metadata": {},
   "outputs": [],
   "source": [
    "import pandas as pd\n",
    "import pycountry\n",
    "\n",
    "# Load your emissions data\n",
    "df = pd.read_csv(\"emissions.csv\")\n",
    "\n",
    "# Function to get iso_n3 from country name\n",
    "def get_iso_n3(name):\n",
    "    try:\n",
    "        return int(pycountry.countries.lookup(name).numeric)\n",
    "    except:\n",
    "        return None\n",
    "\n",
    "# Add iso_n3 column\n",
    "df[\"iso_n3\"] = df[\"country\"].apply(get_iso_n3)\n",
    "\n",
    "df[\"iso_n3\"]\n",
    "\n",
    "# Save cleaned version\n",
    "df.to_csv(\"iso_emissions.csv\", index=False)"
   ]
  },
  {
   "cell_type": "code",
   "execution_count": 9,
   "id": "06252ef2-a0de-41d3-aa45-20d06a5b146c",
   "metadata": {},
   "outputs": [],
   "source": [
    "df = df[df[\"iso_n3\"].notna()]\n",
    "df.to_csv(\"iso_emissions.csv\", index=False)"
   ]
  },
  {
   "cell_type": "code",
   "execution_count": 21,
   "id": "3894cfe3-3643-4d95-a89b-d22ac85bbb03",
   "metadata": {},
   "outputs": [
    {
     "data": {
      "text/plain": [
       "0        4\n",
       "3        8\n",
       "4       12\n",
       "5       20\n",
       "6       24\n",
       "      ... \n",
       "249    704\n",
       "250    876\n",
       "252    887\n",
       "253    894\n",
       "254    716\n",
       "Name: iso_n3, Length: 205, dtype: object"
      ]
     },
     "execution_count": 21,
     "metadata": {},
     "output_type": "execute_result"
    }
   ],
   "source": [
    "df[\"iso_n3\"].astype(int).astype(str)"
   ]
  }
 ],
 "metadata": {
  "kernelspec": {
   "display_name": "Python 3 (ipykernel)",
   "language": "python",
   "name": "python3"
  },
  "language_info": {
   "codemirror_mode": {
    "name": "ipython",
    "version": 3
   },
   "file_extension": ".py",
   "mimetype": "text/x-python",
   "name": "python",
   "nbconvert_exporter": "python",
   "pygments_lexer": "ipython3",
   "version": "3.11.7"
  }
 },
 "nbformat": 4,
 "nbformat_minor": 5
}
